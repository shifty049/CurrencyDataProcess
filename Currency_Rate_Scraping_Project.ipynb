{
 "cells": [
  {
   "cell_type": "markdown",
   "metadata": {},
   "source": [
    "# Main Functions and Goals: \n",
    "### 1.Set up a daily-scheduled mission to scrape currency rate data of USD, CNY and JYD vs TWD\n",
    "### 2. insert scraped data into MySQL Database\n",
    "### 3. set up a post  api  on django server for further usage"
   ]
  },
  {
   "cell_type": "markdown",
   "metadata": {},
   "source": [
    "## Library Needed listed as below"
   ]
  },
  {
   "cell_type": "code",
   "execution_count": 12,
   "metadata": {},
   "outputs": [],
   "source": [
    "import requests\n",
    "import pandas as pd\n",
    "import json\n",
    "import matplotlib.pyplot as plt\n",
    "from datetime import datetime\n",
    "import calendar\n",
    "import mysql.connector"
   ]
  },
  {
   "cell_type": "markdown",
   "metadata": {},
   "source": [
    "## Part1: Data Scraping and MySQL Data Insert"
   ]
  },
  {
   "cell_type": "code",
   "execution_count": 13,
   "metadata": {},
   "outputs": [],
   "source": [
    "class currency_crawler(object):\n",
    "    def __init__(self,start_date,end_date):\n",
    "        self.info_dict={'日圓':['JPY','日圓(JPY)'],'美元':['USD','美元(USD)'],'人民幣':['CNY','人民幣(CNY)']}\n",
    "        self.start_date=start_date\n",
    "        self.end_date=end_date\n",
    "    def item_filter(self,x):\n",
    "                if (type(x)==int) or (type(x)==float and (str(x)!='nan')):\n",
    "                    return x\n",
    "                elif type(x)==pd._libs.tslibs.timestamps.Timestamp:\n",
    "                    return str(x)\n",
    "                elif (type(x)==dict) or (type(x)==list):\n",
    "                    return json.dumps(x)\n",
    "                elif ((type(x)==float) and (str(x)=='nan')) or ((type(x)==pd._libs.tslibs.nattype.NaTType) and (str(x)=='NaT')):\n",
    "                    return None         \n",
    "                else: return x\n",
    "    def downloader(self,currency,transfer_to_db=False):\n",
    "        mydb = mysql.connector.connect(\n",
    "                host=data['host'],\n",
    "                user=data['user'],\n",
    "                passwd=data['passwd'],\n",
    "                port=data['port'],\n",
    "                database=data['database']\n",
    "                )\n",
    "        cnx=mydb.cursor()\n",
    "        \n",
    "        cnx.execute('select * from currency_rate where time=%s and currency=%s',[self.start_date,self.info_dict[currency][0]])\n",
    "        \n",
    "        if len(cnx.fetchall())>0:\n",
    "            # do not insert repeated data\n",
    "            print('data already exists')\n",
    "            \n",
    "            mydb.close()\n",
    "        \n",
    "        else:\n",
    "        \n",
    "            try:\n",
    "\n",
    "                payload={'data':{\"Currency\":self.info_dict[currency][0],\"Currencytype\":\"1\",\"Rangetype\":\"3\",\"Startdate\":self.start_date,\"Enddate\":self.end_date,\"CurrencyTitle\":self.info_dict[currency][1]}}\n",
    "\n",
    "                headers={\n",
    "                'Referer': 'https://www.esunbank.com.tw/bank/personal/deposit/rate/forex/exchange-rate-chart?Currency=%s/TWD'%self.info_dict[currency][0],\n",
    "                }\n",
    "                with requests.Session() as s:\n",
    "                    r=s.post('https://www.esunbank.com.tw/bank/Layouts/esunbank/Deposit/DpService.aspx/GetLineChartJson',json=payload,headers=headers)\n",
    "                info=r.json()\n",
    "                l=[]\n",
    "                columns=['Time','Currency','BuyRate','SellRate']\n",
    "                for item in json.loads(info['d'])['Rates']:\n",
    "                    l.append([datetime.strptime(item[columns[0]], '%Y-%m-%d'),self.info_dict[currency][0],item[columns[2]],item[columns[3]]])\n",
    "                df=pd.DataFrame(l,columns=columns)\n",
    "\n",
    "                if (len(df)>0) & (transfer_to_db==True):\n",
    "\n",
    "                    records_to_insert=[[self.item_filter(a) for a in x] for x in df.values.tolist()]\n",
    "\n",
    "                    mySql_insert_query='''insert into currency_rate ({}) values ({})'''.format(','.join(columns),','.join('%s' for _ in range(len(columns))))\n",
    "\n",
    "                    cnx.executemany(mySql_insert_query, records_to_insert)\n",
    "\n",
    "                    mydb.commit()\n",
    "                    \n",
    "                    print('data of %s from %s to %s inserted successfully'%(currency,start_date,end_date))\n",
    "                    \n",
    "\n",
    "                else:\n",
    "                    if len(df)==0:\n",
    "                        print('No data Captured!')\n",
    "                    pass\n",
    "                mydb.close()\n",
    "            except Exception as  E:\n",
    "                print(E)\n",
    "                try:\n",
    "                    mydb.close()\n",
    "                except:\n",
    "                    pass\n",
    "        "
   ]
  },
  {
   "cell_type": "code",
   "execution_count": null,
   "metadata": {},
   "outputs": [],
   "source": [
    "#use calendar to check the day is on weekday or weekend and only start scraping process on weekday\n",
    "if __name__=='__main__':\n",
    "    td=datetime.now().date()-timedelta(days=0)\n",
    "    wd=calendar.day_name[td.weekday()]\n",
    "    #weekend\n",
    "    if td.weekday() in [5,6]:\n",
    "\n",
    "        print('Today is %s %s on weekend. Thus, pass this round'%(td,wd))\n",
    "        pass\n",
    "    #weekday\n",
    "    else:\n",
    "        if td.weekday()==0:\n",
    "            delay=3\n",
    "        else:\n",
    "            delay=1\n",
    "        start_date=end_date=str(td-timedelta(days=delay))\n",
    "        print('Today is %s %s. Thus,start_date & end_date = %s %s'%(td,wd,start_date,calendar.day_name[(td-timedelta(days=delay)).weekday()]))\n",
    "        \n",
    "        C=currency_crawler(start_date,end_date)\n",
    "        for dollar in ['日圓','人民幣','美元']:\n",
    "            C.downloader(dollar,True)"
   ]
  },
  {
   "cell_type": "markdown",
   "metadata": {},
   "source": [
    "## Part2: Set up RESTful API on Django Server"
   ]
  },
  {
   "cell_type": "code",
   "execution_count": null,
   "metadata": {},
   "outputs": [],
   "source": [
    "def welcome(request):\n",
    "    try:\n",
    "        if 'data' in request.POST:\n",
    "            ds=eval(request.POST['data'])\n",
    "            if sorted(ds.keys())==sorted(['currency','start_date','end_date']):\n",
    "                print(type(request.POST['data']))\n",
    "                with open('db_connect.json','r') as f:\n",
    "                    data=json.load(f)\n",
    "                \n",
    "                mydb = mysql.connector.connect(\n",
    "                host=data['host'],\n",
    "                user=data['user'],\n",
    "                passwd=data['passwd'],\n",
    "                port=data['port'],\n",
    "                database=data['database']\n",
    "                )\n",
    "                cnx=mydb.cursor()\n",
    "                cnx.execute('select * from currency_rate where Time between %s and %s  and Currency=%s',[ds['start_date'],ds['end_date'],ds['currency']])\n",
    "                ls=cnx.fetchall()\n",
    "                mydb.close()\n",
    "                transfer={}\n",
    "                for item in ls:\n",
    "                    transfer.update({str(item[0].date()):{'Currency':item[1],'BuyRate':float(item[2]),'SellRate':float(item[3])}})\n",
    "                #Return data as json format \n",
    "                return HttpResponse(json.dumps(transfer), content_type='application/json')\n",
    "            else:\n",
    "                return HttpResponse(status=403)\n",
    "\n",
    "            \n",
    "        else:\n",
    "            return HttpResponse(status=403)\n",
    "    except Exception as E:\n",
    "        print(E)\n",
    "        try:\n",
    "            mydb.close()\n",
    "        except:\n",
    "            pass\n",
    "        return HttpResponse(status=403)"
   ]
  },
  {
   "cell_type": "markdown",
   "metadata": {},
   "source": [
    "## Part3: Retrieve Data  from Django Server via RESTful API"
   ]
  },
  {
   "cell_type": "code",
   "execution_count": 15,
   "metadata": {},
   "outputs": [],
   "source": [
    "#Acquire JPY currency rate data from 2018-11-01 till current date\n",
    "data=json.dumps({\"currency\": \"JPY\", \"end_date\": \"%s\"%datetime.now().date(), \"start_date\": \"2018-11-01\"})"
   ]
  },
  {
   "cell_type": "code",
   "execution_count": 19,
   "metadata": {},
   "outputs": [
    {
     "name": "stdout",
     "output_type": "stream",
     "text": [
      "<Response [200]>\n"
     ]
    }
   ],
   "source": [
    "payload={'csrfmiddlewaretoken': 'QR6P3Hrs1991vPljBi2TCz33y1rucCjnz8nSRiQKbIRwAzU4pw1iuE3BahoxpCjr','data':data}\n",
    "headers={\n",
    "'Cookie': 'csrftoken=kmKC4dPs6Y0rq7iTMNV9hOWcUlvev2Cu3D1FSOeKgxIWvRREA1Uy9TWKwBshI2Cy',\n",
    "}\n",
    "r=requests.post(my_api_address,data=payload,headers=headers)\n",
    "print(r)"
   ]
  },
  {
   "cell_type": "markdown",
   "metadata": {},
   "source": [
    "## Final: Visualization"
   ]
  },
  {
   "cell_type": "code",
   "execution_count": 20,
   "metadata": {},
   "outputs": [
    {
     "data": {
      "image/png": "[encoded data removed]",
      "text/plain": [
       "<Figure size 432x288 with 1 Axes>"
      ]
     },
     "metadata": {
      "needs_background": "light"
     },
     "output_type": "display_data"
    }
   ],
   "source": [
    "df=pd.DataFrame(r.json()).transpose()[['BuyRate','SellRate']].reset_index().sort_values(by='index').set_index('index')\n",
    "df.index.name=''\n",
    "df.plot()\n",
    "plt.show()"
   ]
  },
  {
   "cell_type": "code",
   "execution_count": null,
   "metadata": {},
   "outputs": [],
   "source": []
  }
 ],
 "metadata": {
  "kernelspec": {
   "display_name": "Python 3",
   "language": "python",
   "name": "python3"
  },
  "language_info": {
   "codemirror_mode": {
    "name": "ipython",
    "version": 3
   },
   "file_extension": ".py",
   "mimetype": "text/x-python",
   "name": "python",
   "nbconvert_exporter": "python",
   "pygments_lexer": "ipython3",
   "version": "3.7.3"
  }
 },
 "nbformat": 4,
 "nbformat_minor": 2
}
